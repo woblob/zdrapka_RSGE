{
 "cells": [
  {
   "cell_type": "code",
   "execution_count": 1,
   "metadata": {},
   "outputs": [],
   "source": [
    "import requests\n",
    "import datetime \n",
    "from bs4 import BeautifulSoup as soup\n",
    "import pandas as pd\n",
    "import matplotlib.pyplot as plt\n",
    "from time import sleep\n",
    "%matplotlib inline"
   ]
  },
  {
   "cell_type": "code",
   "execution_count": 2,
   "metadata": {},
   "outputs": [],
   "source": [
    "def setPage(URL):\n",
    "    response = requests.get(URL)\n",
    "    if response.status_code == 200:\n",
    "        return soup(response.text)\n",
    "    raise Exception(f\"response code = {response.status_code}\")"
   ]
  },
  {
   "cell_type": "code",
   "execution_count": 3,
   "metadata": {},
   "outputs": [],
   "source": [
    "def strip_junk(line):\n",
    "    date_to_format, *content = line.lstrip(\"average180.push([new Date('\").replace(\"')\", \"\").replace(\"]);\", '').split(\", \")\n",
    "    date = datetime.date.fromisoformat(date_to_format.replace(\"/\", \"-\"))#.strftime(\"%Y:%m:%d\")\n",
    "    day, avg = list(map(int, content))\n",
    "    return [date, day, avg] "
   ]
  },
  {
   "cell_type": "code",
   "execution_count": 4,
   "metadata": {},
   "outputs": [],
   "source": [
    "def get_points(page):\n",
    "    dane_zasmiecone = page.body.find(\"script\").text.split(\"\\n\\t\\t\\t\\t\\t\\n                \\t\")\n",
    "    dane_z_6_miesiecy = [line for line in dane_zasmiecone if line.startswith(\"average180\")]\n",
    "    dane_do_wykresu = [strip_junk(line) for line in dane_z_6_miesiecy]\n",
    "    return dane_do_wykresu"
   ]
  },
  {
   "cell_type": "code",
   "execution_count": 5,
   "metadata": {
    "scrolled": true
   },
   "outputs": [],
   "source": [
    "def get_categories(page):\n",
    "    all_categories = page.find(\"div\", {\"class\": \"categories\"}).find_all(\"li\")\n",
    "    names_and_categories = [{\"name\": el.text, \"link\": el.a[\"href\"]} for el in all_categories]\n",
    "    return names_and_categories"
   ]
  },
  {
   "cell_type": "code",
   "execution_count": 6,
   "metadata": {},
   "outputs": [],
   "source": [
    "def get_all_items_on_page(page):\n",
    "    return page.find(\"div\", {\"class\": \"content\"}).table.tbody.find_all(\"tr\")\n",
    "\n",
    "def get_item_name(obj):\n",
    "    return obj.td.span.text\n",
    "\n",
    "def get_item_link(obj):\n",
    "    return obj.td.a[\"href\"]"
   ]
  },
  {
   "cell_type": "code",
   "execution_count": 25,
   "metadata": {},
   "outputs": [],
   "source": [
    "def table_dict_update(table, dates, values, name):\n",
    "    pddates = pd.DatetimeIndex(dates)\n",
    "    mydict = {date:value for date, value in zip(pddates, values)}\n",
    "    series = pd.Series(mydict, name=name)\n",
    "    table = table.append(series)\n",
    "    return table"
   ]
  },
  {
   "cell_type": "code",
   "execution_count": 7,
   "metadata": {},
   "outputs": [],
   "source": [
    "link = \"https://secure.runescape.com/m=itemdb_rs/Crustacea+armour+token/viewitem?obj=50401\"\n",
    "link2 = 'https://secure.runescape.com/m=itemdb_rs/catalogue'\n",
    "link_base_categories = \"https://secure.runescape.com/m=itemdb_rs/{}\""
   ]
  },
  {
   "cell_type": "code",
   "execution_count": 34,
   "metadata": {},
   "outputs": [],
   "source": [
    "mypage = setPage(\"https://secure.runescape.com/m=itemdb_rs/catalogue?cat=24\")"
   ]
  },
  {
   "cell_type": "code",
   "execution_count": 35,
   "metadata": {},
   "outputs": [],
   "source": [
    "links_to_pages = mypage.find(\"div\", class_ = \"paging\").find_all(\"a\")"
   ]
  },
  {
   "cell_type": "code",
   "execution_count": 38,
   "metadata": {},
   "outputs": [
    {
     "name": "stdout",
     "output_type": "stream",
     "text": [
      "712 ns ± 11 ns per loop (mean ± std. dev. of 7 runs, 1000000 loops each)\n"
     ]
    }
   ],
   "source": [
    "%timeit [str(i) for i in range(1, len(links_to_pages)+1)]"
   ]
  },
  {
   "cell_type": "code",
   "execution_count": 37,
   "metadata": {},
   "outputs": [
    {
     "name": "stdout",
     "output_type": "stream",
     "text": [
      "4.05 µs ± 39.2 ns per loop (mean ± std. dev. of 7 runs, 100000 loops each)\n"
     ]
    }
   ],
   "source": [
    "%timeit [link.text for link in links_to_pages]"
   ]
  },
  {
   "cell_type": "code",
   "execution_count": 24,
   "metadata": {},
   "outputs": [],
   "source": [
    "page_soup = setPage(link2)"
   ]
  },
  {
   "cell_type": "code",
   "execution_count": 30,
   "metadata": {},
   "outputs": [
    {
     "data": {
      "text/html": [
       "<div>\n",
       "<style scoped>\n",
       "    .dataframe tbody tr th:only-of-type {\n",
       "        vertical-align: middle;\n",
       "    }\n",
       "\n",
       "    .dataframe tbody tr th {\n",
       "        vertical-align: top;\n",
       "    }\n",
       "\n",
       "    .dataframe thead th {\n",
       "        text-align: right;\n",
       "    }\n",
       "</style>\n",
       "<table border=\"1\" class=\"dataframe\">\n",
       "  <thead>\n",
       "    <tr style=\"text-align: right;\">\n",
       "      <th></th>\n",
       "      <th>2020-03-09</th>\n",
       "      <th>2020-03-10</th>\n",
       "      <th>2020-03-11</th>\n",
       "      <th>2020-03-12</th>\n",
       "      <th>2020-03-13</th>\n",
       "      <th>2020-03-14</th>\n",
       "      <th>2020-03-15</th>\n",
       "      <th>2020-03-16</th>\n",
       "      <th>2020-03-17</th>\n",
       "      <th>2020-03-18</th>\n",
       "      <th>...</th>\n",
       "      <th>2020-08-26</th>\n",
       "      <th>2020-08-27</th>\n",
       "      <th>2020-08-28</th>\n",
       "      <th>2020-08-29</th>\n",
       "      <th>2020-08-30</th>\n",
       "      <th>2020-08-31</th>\n",
       "      <th>2020-09-01</th>\n",
       "      <th>2020-09-02</th>\n",
       "      <th>2020-09-03</th>\n",
       "      <th>2020-09-04</th>\n",
       "    </tr>\n",
       "  </thead>\n",
       "  <tbody>\n",
       "    <tr>\n",
       "      <th>Adamant brutal</th>\n",
       "      <td>385.0</td>\n",
       "      <td>385.0</td>\n",
       "      <td>385.0</td>\n",
       "      <td>385.0</td>\n",
       "      <td>385.0</td>\n",
       "      <td>385.0</td>\n",
       "      <td>385.0</td>\n",
       "      <td>385.0</td>\n",
       "      <td>385.0</td>\n",
       "      <td>385.0</td>\n",
       "      <td>...</td>\n",
       "      <td>364.0</td>\n",
       "      <td>364.0</td>\n",
       "      <td>364.0</td>\n",
       "      <td>364.0</td>\n",
       "      <td>364.0</td>\n",
       "      <td>364.0</td>\n",
       "      <td>364.0</td>\n",
       "      <td>364.0</td>\n",
       "      <td>364.0</td>\n",
       "      <td>364.0</td>\n",
       "    </tr>\n",
       "    <tr>\n",
       "      <th>Adamant dart</th>\n",
       "      <td>47.0</td>\n",
       "      <td>47.0</td>\n",
       "      <td>47.0</td>\n",
       "      <td>47.0</td>\n",
       "      <td>47.0</td>\n",
       "      <td>47.0</td>\n",
       "      <td>45.0</td>\n",
       "      <td>45.0</td>\n",
       "      <td>45.0</td>\n",
       "      <td>45.0</td>\n",
       "      <td>...</td>\n",
       "      <td>50.0</td>\n",
       "      <td>50.0</td>\n",
       "      <td>50.0</td>\n",
       "      <td>52.0</td>\n",
       "      <td>52.0</td>\n",
       "      <td>52.0</td>\n",
       "      <td>52.0</td>\n",
       "      <td>53.0</td>\n",
       "      <td>53.0</td>\n",
       "      <td>53.0</td>\n",
       "    </tr>\n",
       "    <tr>\n",
       "      <th>Adamant javelin</th>\n",
       "      <td>62.0</td>\n",
       "      <td>62.0</td>\n",
       "      <td>62.0</td>\n",
       "      <td>64.0</td>\n",
       "      <td>64.0</td>\n",
       "      <td>64.0</td>\n",
       "      <td>63.0</td>\n",
       "      <td>63.0</td>\n",
       "      <td>64.0</td>\n",
       "      <td>64.0</td>\n",
       "      <td>...</td>\n",
       "      <td>66.0</td>\n",
       "      <td>66.0</td>\n",
       "      <td>65.0</td>\n",
       "      <td>65.0</td>\n",
       "      <td>65.0</td>\n",
       "      <td>65.0</td>\n",
       "      <td>65.0</td>\n",
       "      <td>65.0</td>\n",
       "      <td>65.0</td>\n",
       "      <td>66.0</td>\n",
       "    </tr>\n",
       "  </tbody>\n",
       "</table>\n",
       "<p>3 rows × 180 columns</p>\n",
       "</div>"
      ],
      "text/plain": [
       "                 2020-03-09  2020-03-10  2020-03-11  2020-03-12  2020-03-13  \\\n",
       "Adamant brutal        385.0       385.0       385.0       385.0       385.0   \n",
       "Adamant dart           47.0        47.0        47.0        47.0        47.0   \n",
       "Adamant javelin        62.0        62.0        62.0        64.0        64.0   \n",
       "\n",
       "                 2020-03-14  2020-03-15  2020-03-16  2020-03-17  2020-03-18  \\\n",
       "Adamant brutal        385.0       385.0       385.0       385.0       385.0   \n",
       "Adamant dart           47.0        45.0        45.0        45.0        45.0   \n",
       "Adamant javelin        64.0        63.0        63.0        64.0        64.0   \n",
       "\n",
       "                 ...  2020-08-26  2020-08-27  2020-08-28  2020-08-29  \\\n",
       "Adamant brutal   ...       364.0       364.0       364.0       364.0   \n",
       "Adamant dart     ...        50.0        50.0        50.0        52.0   \n",
       "Adamant javelin  ...        66.0        66.0        65.0        65.0   \n",
       "\n",
       "                 2020-08-30  2020-08-31  2020-09-01  2020-09-02  2020-09-03  \\\n",
       "Adamant brutal        364.0       364.0       364.0       364.0       364.0   \n",
       "Adamant dart           52.0        52.0        52.0        53.0        53.0   \n",
       "Adamant javelin        65.0        65.0        65.0        65.0        65.0   \n",
       "\n",
       "                 2020-09-04  \n",
       "Adamant brutal        364.0  \n",
       "Adamant dart           53.0  \n",
       "Adamant javelin        66.0  \n",
       "\n",
       "[3 rows x 180 columns]"
      ]
     },
     "execution_count": 30,
     "metadata": {},
     "output_type": "execute_result"
    }
   ],
   "source": [
    "def make_table():\n",
    "    table = pd.DataFrame() \n",
    "    categories = get_categories(page_soup)\n",
    "    for cat in categories:\n",
    "        link_temp = link_base_categories.format(cat[\"link\"])\n",
    "        page_temp = setPage(link_temp)\n",
    "        items = get_all_items_on_page(page_temp)\n",
    "        for item in items[:3]:\n",
    "            item_name = get_item_name(item)\n",
    "            item_link = get_item_link(item)\n",
    "            item_page = setPage(item_link)\n",
    "            item_points = get_points(item_page)\n",
    "            Dates, Values, Average = list(zip(*item_points))\n",
    "            table = table_dict_update(table, Dates, Values, item_name)\n",
    "            sleep(1)\n",
    "        sleep(1)\n",
    "        break\n",
    "    return table"
   ]
  },
  {
   "cell_type": "code",
   "execution_count": 86,
   "metadata": {
    "scrolled": true
   },
   "outputs": [],
   "source": [
    "points = get_points(page_soup)"
   ]
  },
  {
   "cell_type": "code",
   "execution_count": 93,
   "metadata": {},
   "outputs": [
    {
     "data": {
      "text/plain": [
       "[<matplotlib.lines.Line2D at 0x7f35d6de0a60>]"
      ]
     },
     "execution_count": 93,
     "metadata": {},
     "output_type": "execute_result"
    },
    {
     "data": {
      "image/png": "[encoded data removed]",
      "text/plain": [
       "<Figure size 432x288 with 1 Axes>"
      ]
     },
     "metadata": {
      "needs_background": "light"
     },
     "output_type": "display_data"
    }
   ],
   "source": [
    "Dates, Values, Average = list(zip(*points))\n",
    "plt.plot(Dates, Values)"
   ]
  },
  {
   "cell_type": "code",
   "execution_count": 94,
   "metadata": {},
   "outputs": [],
   "source": [
    "# import matplotlib.pyplot as plt\n",
    "\n",
    "# x = np.linspace(0, 10, 500)\n",
    "# y = np.sin(x)\n",
    "\n",
    "# fig, ax = plt.subplots()\n",
    "\n",
    "# line1, = ax.plot(x, y, label='Using set_dashes()')\n",
    "# line1.set_dashes([2, 2, 10, 2]) \n",
    "\n",
    "# line2, = ax.plot(x, y - 0.2, dashes=[6, 2], label='Using the dashes parameter')\n",
    "\n",
    "# ax.legend()\n",
    "# plt.show()"
   ]
  },
  {
   "cell_type": "code",
   "execution_count": 14,
   "metadata": {},
   "outputs": [],
   "source": [
    "# from selenium import webdriver\n",
    "\n",
    "# # path = r'C:\\Users\\Urszula\\Desktop\\wojtek\\Python\\geckodriver'\n",
    "# browser = webdriver.Chrome()\n",
    "\n",
    "# browser.get(link)\n",
    "\n",
    "# var = browser.find_element_by_tag_name(\"svg\").find_element_by_tag_name(\"g\").find_element_by_tag_name(\"g\").find_element_by_tag_name(\"g\")\n",
    "\n",
    "# chart_height = var.find_element_by_tag_name(\"rect\").get_attribute(\"y\")\n",
    "\n",
    "# chart_height = int(chart_height) - 3\n",
    "\n",
    "# 395/377\n",
    "\n",
    "# chart = browser.find_elements_by_tag_name(\"circle\")\n",
    "\n",
    "# punkty = []\n",
    "# for i, punkt in enumerate(chart):\n",
    "# #     CX = punkt.get_attribute(\"cx\")\n",
    "#     CY = punkt.get_attribute(\"cy\")\n",
    "#     height = chart_height - float(CY)\n",
    "#     punkty.append((i, height))\n",
    "    \n",
    "# punkty = punkty[::-1]\n",
    "# punkty\n",
    "# browser.close()"
   ]
  }
 ],
 "metadata": {
  "kernelspec": {
   "display_name": "Python 3",
   "language": "python",
   "name": "python3"
  },
  "language_info": {
   "codemirror_mode": {
    "name": "ipython",
    "version": 3
   },
   "file_extension": ".py",
   "mimetype": "text/x-python",
   "name": "python",
   "nbconvert_exporter": "python",
   "pygments_lexer": "ipython3",
   "version": "3.8.3"
  }
 },
 "nbformat": 4,
 "nbformat_minor": 4
}
