{
 "cells": [
  {
   "cell_type": "code",
   "execution_count": 12,
   "metadata": {},
   "outputs": [],
   "source": [
    "link = \"https://secure.runescape.com/m=itemdb_rs/Crustacea+armour+token/viewitem?obj=50401\""
   ]
  },
  {
   "cell_type": "code",
   "execution_count": 13,
   "metadata": {},
   "outputs": [],
   "source": [
    "# from urllib.request import urlopen\n",
    "# from bs4 import BeautifulSoup as soup\n",
    "\n",
    "# def setPage(URL):\n",
    "#     with urlopen(URL) as uClient:\n",
    "#         page = uClient.read()\n",
    "#     return soup(page, \"html.parser\")\n",
    "\n",
    "\n",
    "# page_soup = setPage(link)\n",
    "\n",
    "# xpath = '//*[@id=\"itemchart\"]/div/div[1]/div/svg/g[1]/g[2]'\n",
    "\n",
    "# page_soup.find(\"div\", {\"id\": \"itemchart\"})"
   ]
  },
  {
   "cell_type": "code",
   "execution_count": 14,
   "metadata": {},
   "outputs": [],
   "source": [
    "from selenium import webdriver"
   ]
  },
  {
   "cell_type": "code",
   "execution_count": 15,
   "metadata": {},
   "outputs": [],
   "source": [
    "# path = r'C:\\Users\\Urszula\\Desktop\\wojtek\\Python\\geckodriver'\n",
    "browser = webdriver.Chrome()"
   ]
  },
  {
   "cell_type": "code",
   "execution_count": 16,
   "metadata": {},
   "outputs": [],
   "source": [
    "browser.get(link)"
   ]
  },
  {
   "cell_type": "code",
   "execution_count": 17,
   "metadata": {},
   "outputs": [],
   "source": [
    "var = browser.find_element_by_tag_name(\"svg\").find_element_by_tag_name(\"g\").find_element_by_tag_name(\"g\").find_element_by_tag_name(\"g\")"
   ]
  },
  {
   "cell_type": "code",
   "execution_count": 18,
   "metadata": {},
   "outputs": [],
   "source": [
    "chart_height = var.find_element_by_tag_name(\"rect\").get_attribute(\"y\")"
   ]
  },
  {
   "cell_type": "code",
   "execution_count": 19,
   "metadata": {},
   "outputs": [],
   "source": [
    "chart_height = int(chart_height) - 3"
   ]
  },
  {
   "cell_type": "code",
   "execution_count": null,
   "metadata": {},
   "outputs": [],
   "source": [
    "395/377"
   ]
  },
  {
   "cell_type": "code",
   "execution_count": 20,
   "metadata": {},
   "outputs": [
    {
     "data": {
      "text/plain": [
       "[(29, 346.2382533333333),\n",
       " (28, 346.2382533333333),\n",
       " (27, 316.16958666666665),\n",
       " (26, 316.16958666666665),\n",
       " (25, 316.16958666666665),\n",
       " (24, 259.10130666666663),\n",
       " (23, 259.10130666666663),\n",
       " (22, 208.29268000000002),\n",
       " (21, 208.29268000000002),\n",
       " (20, 165.40296),\n",
       " (19, 165.40296),\n",
       " (18, 137.87052),\n",
       " (17, 111.01153333333332),\n",
       " (16, 111.01153333333332),\n",
       " (15, 88.16924),\n",
       " (14, 69.07934666666665),\n",
       " (13, 54.62023999999997),\n",
       " (12, 42.341200000000015),\n",
       " (11, 32.37295999999998),\n",
       " (10, 24.398226666666687),\n",
       " (9, 18.01844),\n",
       " (8, 13.29437333333334),\n",
       " (7, 10.26206666666667),\n",
       " (6, 13.155866666666668),\n",
       " (5, 14.00315999999998),\n",
       " (4, 14.158626666666692),\n",
       " (3, 12.333306666666658),\n",
       " (2, 10.51576),\n",
       " (1, 7.826893333333317),\n",
       " (0, 8.019813333333332)]"
      ]
     },
     "execution_count": 20,
     "metadata": {},
     "output_type": "execute_result"
    }
   ],
   "source": [
    "chart = browser.find_elements_by_tag_name(\"circle\")\n",
    "\n",
    "punkty = []\n",
    "for i, punkt in enumerate(chart):\n",
    "#     CX = punkt.get_attribute(\"cx\")\n",
    "    CY = punkt.get_attribute(\"cy\")\n",
    "    height = chart_height - float(CY)\n",
    "    punkty.append((i, height))\n",
    "    \n",
    "punkty = punkty[::-1]\n",
    "punkty"
   ]
  },
  {
   "cell_type": "code",
   "execution_count": 21,
   "metadata": {},
   "outputs": [
    {
     "data": {
      "image/png": "[encoded data removed]",
      "text/plain": [
       "<Figure size 432x288 with 1 Axes>"
      ]
     },
     "metadata": {
      "needs_background": "light"
     },
     "output_type": "display_data"
    }
   ],
   "source": [
    "import matplotlib.pyplot as plt\n",
    "%matplotlib inline\n",
    "X = [el[0] for el in punkty]\n",
    "Y = [el[1] for el in punkty]\n",
    "plt.plot(X, Y)\n",
    "plt.show()"
   ]
  },
  {
   "cell_type": "code",
   "execution_count": 23,
   "metadata": {},
   "outputs": [],
   "source": [
    "browser.close()"
   ]
  },
  {
   "cell_type": "code",
   "execution_count": null,
   "metadata": {},
   "outputs": [],
   "source": []
  }
 ],
 "metadata": {
  "kernelspec": {
   "display_name": "Python 3",
   "language": "python",
   "name": "python3"
  },
  "language_info": {
   "codemirror_mode": {
    "name": "ipython",
    "version": 3
   },
   "file_extension": ".py",
   "mimetype": "text/x-python",
   "name": "python",
   "nbconvert_exporter": "python",
   "pygments_lexer": "ipython3",
   "version": "3.7.4"
  }
 },
 "nbformat": 4,
 "nbformat_minor": 4
}
